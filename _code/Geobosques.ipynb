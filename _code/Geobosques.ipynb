{
 "cells": [
  {
   "cell_type": "code",
   "execution_count": 1,
   "metadata": {},
   "outputs": [
    {
     "data": {
      "text/html": [
       "<style>.container { width:80% !important; }</style>"
      ],
      "text/plain": [
       "<IPython.core.display.HTML object>"
      ]
     },
     "metadata": {},
     "output_type": "display_data"
    }
   ],
   "source": [
    "# Wide cells\n",
    "# Make cells wider\n",
    "from IPython.core.display import display, HTML\n",
    "display(HTML(\"<style>.container { width:80% !important; }</style>\"))"
   ]
  },
  {
   "cell_type": "code",
   "execution_count": 2,
   "metadata": {},
   "outputs": [],
   "source": [
    "#Library\n",
    "# ---\n",
    "# For scrape\n",
    "from selenium import webdriver\n",
    "from webdriver_manager.chrome import ChromeDriverManager\n",
    "\n",
    "# Options driver\n",
    "from selenium.webdriver.chrome.options import Options\n",
    "\n",
    "# For dataframes\n",
    "import pandas as pd\n",
    "from pandas import json_normalize\n",
    "\n",
    "# For simulate human behavior.\n",
    "import time\n",
    "from time import sleep\n",
    "import random\n",
    "\n",
    "# Clear data\n",
    "import unidecode\n",
    "# unaccented_string = unidecode.unidecode(accented_string)\n",
    "\n",
    "# Manipulate Json files\n",
    "import json\n"
   ]
  },
  {
   "cell_type": "code",
   "execution_count": 3,
   "metadata": {},
   "outputs": [
    {
     "name": "stderr",
     "output_type": "stream",
     "text": [
      "\n",
      "\n",
      "====== WebDriver manager ======\n",
      "Current google-chrome version is 106.0.5249\n",
      "Get LATEST chromedriver version for 106.0.5249 google-chrome\n",
      "Trying to download new driver from https://chromedriver.storage.googleapis.com/106.0.5249.61/chromedriver_win32.zip\n",
      "Driver has been saved in cache [C:\\Users\\Anzony\\.wdm\\drivers\\chromedriver\\win32\\106.0.5249.61]\n"
     ]
    }
   ],
   "source": [
    "# Setting\n",
    "options= Options()\n",
    "options.add_argument(\"--start-maximized\")\n",
    "\n",
    "driver = webdriver.Chrome(ChromeDriverManager().install(),options=options)"
   ]
  },
  {
   "cell_type": "code",
   "execution_count": 4,
   "metadata": {},
   "outputs": [],
   "source": [
    "# we open our page\n",
    "driver.get(\"http://geobosques.minam.gob.pe/geobosque/view/perdida.php\")"
   ]
  },
  {
   "cell_type": "code",
   "execution_count": 58,
   "metadata": {},
   "outputs": [],
   "source": [
    "from selenium.webdriver.support.ui import Select"
   ]
  },
  {
   "cell_type": "code",
   "execution_count": 75,
   "metadata": {},
   "outputs": [
    {
     "name": "stdout",
     "output_type": "stream",
     "text": [
      "18\n"
     ]
    }
   ],
   "source": [
    "list_dptos = driver.find_element_by_id( 'dr_departamento_chosen')\n",
    "list_dptos.click()\n",
    "n_dpto = len(list_dptos.find_elements_by_class_name( \"active-result\" ))\n",
    "list_dptos.click()\n",
    "print(n_dpto)"
   ]
  },
  {
   "cell_type": "code",
   "execution_count": null,
   "metadata": {},
   "outputs": [],
   "source": [
    "for dpto_index in range( 1, n_dpto ):\n",
    "    \n",
    "    list_dptos = driver.find_element_by_id( 'dr_departamento_chosen')\n",
    "    list_dptos.click()\n",
    "    list_dptos.find_elements_by_class_name( \"active-result\")[ dpto_index ].click()\n",
    "    time.sleep( 2 )\n",
    "    \n",
    "    # Total provinces\n",
    "    list_prov = driver.find_element_by_id( 'dr_provincia_chosen')\n",
    "    list_prov.click()\n",
    "    n_prov = len(list_prov.find_elements_by_class_name( \"active-result\"))\n",
    "    list_prov.click()\n",
    "    print( n_prov )\n",
    "    \n",
    "    for prov_index in range( 1, n_prov ):\n",
    "        \n",
    "        list_prov = driver.find_element_by_id( 'dr_provincia_chosen')\n",
    "        list_prov.click()\n",
    "        list_prov.find_elements_by_class_name( \"active-result\")[prov_index].click()\n",
    "        time.sleep( 2 )\n",
    "        \n",
    "        list_dist = driver.find_element_by_id( 'dr_distrito_chosen')\n",
    "        list_dist.click()\n",
    "        n_dist = len(list_dist.find_elements_by_class_name( \"active-result\"))\n",
    "        list_dist.click()\n",
    "        print( n_dist )\n",
    "        \n",
    "        for dist_index in range( 1, n_dist ):\n",
    "            \n",
    "            list_dist = driver.find_element_by_id( 'dr_distrito_chosen')\n",
    "            list_dist.click()\n",
    "            list_dist.find_elements_by_class_name( \"active-result\")[ dist_index ].click()\n",
    "            time.sleep( 2 )\n",
    "            #\n",
    "            tabla_html = driver.find_element_by_id(\"pannel-perdida-t-ha\")\n",
    "            tabl_final = pd.read_html( tabla_html.get_attribute('outerHTML') )[0]"
   ]
  }
 ],
 "metadata": {
  "hide_input": false,
  "kernelspec": {
   "display_name": "Python 3",
   "language": "python",
   "name": "python3"
  },
  "language_info": {
   "codemirror_mode": {
    "name": "ipython",
    "version": 3
   },
   "file_extension": ".py",
   "mimetype": "text/x-python",
   "name": "python",
   "nbconvert_exporter": "python",
   "pygments_lexer": "ipython3",
   "version": "3.8.6"
  },
  "toc": {
   "base_numbering": 1,
   "nav_menu": {},
   "number_sections": true,
   "sideBar": true,
   "skip_h1_title": false,
   "title_cell": "Table of Contents",
   "title_sidebar": "Contents",
   "toc_cell": false,
   "toc_position": {},
   "toc_section_display": true,
   "toc_window_display": false
  }
 },
 "nbformat": 4,
 "nbformat_minor": 4
}
